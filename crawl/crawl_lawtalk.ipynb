{
 "cells": [
  {
   "cell_type": "code",
   "execution_count": 1,
   "metadata": {},
   "outputs": [],
   "source": [
    "from selenium import webdriver\n",
    "from selenium.webdriver.common.by import By\n",
    "import time\n",
    "import os\n",
    "import json"
   ]
  },
  {
   "cell_type": "code",
   "execution_count": 2,
   "metadata": {},
   "outputs": [],
   "source": [
    "data_dir = '../data'\n",
    "if not os.path.isdir(data_dir):\n",
    "    os.makedirs(data_dir)"
   ]
  },
  {
   "cell_type": "code",
   "execution_count": 3,
   "metadata": {},
   "outputs": [],
   "source": [
    "driver = webdriver.Chrome() \n",
    "headers = {\n",
    "    'User-Agent': 'Mozilla/5.0 (Macintosh; Intel Mac OS X 10_15_7)'\n",
    "}"
   ]
  },
  {
   "cell_type": "code",
   "execution_count": 4,
   "metadata": {},
   "outputs": [],
   "source": [
    "def read(qna_id):\n",
    "    url = f'https://www.lawtalk.co.kr/qna/{qna_id}'\n",
    "    driver.get(url)\n",
    "    time.sleep(2)\n",
    "\n",
    "    # 카테고리\n",
    "    categories = []\n",
    "    question_keywords_tag = driver.find_element(By.CLASS_NAME, 'question-keywords')\n",
    "    category_tags = question_keywords_tag.find_elements(By.CLASS_NAME, 'question-keyword')\n",
    "    for category_tag in category_tags:\n",
    "        category = category_tag.get_attribute('field')\n",
    "        categories.append(category)\n",
    "\n",
    "    # 질문 제목\n",
    "    question_title_tag = driver.find_element(By.CLASS_NAME, 'question-title')\n",
    "    question_title = question_title_tag.get_attribute('innerText').strip()\n",
    "\n",
    "    # 질문 본문\n",
    "    question_body_tag = driver.find_element(By.CLASS_NAME, 'question-body')\n",
    "    question_body = question_body_tag.get_attribute('innerText').strip()\n",
    "\n",
    "    # 추천 키워드 / 해시태그\n",
    "    recommend_keywords = []\n",
    "    recommend_keywords_tag = driver.find_element(By.CLASS_NAME, 'recommend-question-keywords')\n",
    "    recommend_keyword_tags = recommend_keywords_tag.find_elements(By.CLASS_NAME, 'recommend-question-keyword')\n",
    "    for recommend_keyword_tag in recommend_keyword_tags:\n",
    "        span = recommend_keyword_tag.find_element(By.TAG_NAME, 'span')\n",
    "        keyword = span.get_attribute('innerText').strip()\n",
    "        recommend_keywords.append(keyword)\n",
    "\n",
    "    # 답변 리스트\n",
    "    answers = []\n",
    "    qna_list_feed_tag = driver.find_element(By.CLASS_NAME, 'qna-list-feed')\n",
    "    qna_list_item_tags = qna_list_feed_tag.find_elements(By.CLASS_NAME, 'qna-list-item')\n",
    "    for qna_list_item_tag in qna_list_item_tags:\n",
    "        answer_body_tag = qna_list_item_tag.find_element(By.CLASS_NAME, 'answer-body')\n",
    "        answer = answer_body_tag.get_attribute('innerText').strip()\n",
    "        if len(answer) > 50:\n",
    "            answers.append(answer)\n",
    "\n",
    "    if answers:\n",
    "        return {\n",
    "            'categories': categories,\n",
    "            'question_title': question_title,\n",
    "            'question_body': question_body,\n",
    "            'recommend_keywords': recommend_keywords,\n",
    "            'answers': answers,\n",
    "        }"
   ]
  },
  {
   "cell_type": "code",
   "execution_count": 5,
   "metadata": {},
   "outputs": [
    {
     "name": "stdout",
     "output_type": "stream",
     "text": [
      "start_id: 259597\n"
     ]
    }
   ],
   "source": [
    "start_id = 441738\n",
    "if os.path.exists(data_dir):\n",
    "    qna_ids = sorted([int(f.split('.')[0]) for f in os.listdir(data_dir) if not f.startswith('.')])\n",
    "    if qna_ids:\n",
    "        start_id = qna_ids[0]\n",
    "print(f'start_id: {start_id}')\n",
    "\n",
    "for qna_id in range(start_id, 0, -1):\n",
    "    try:\n",
    "        content = read(qna_id)\n",
    "    except Exception:\n",
    "        continue\n",
    "    if content:\n",
    "        with open(f'{data_dir}/{qna_id}.json', 'w', encoding='utf-8') as f:\n",
    "            json.dump(content, f, ensure_ascii=False, indent=4)"
   ]
  },
  {
   "cell_type": "code",
   "execution_count": null,
   "metadata": {},
   "outputs": [],
   "source": []
  }
 ],
 "metadata": {
  "kernelspec": {
   "display_name": "fashion_image_retrieval",
   "language": "python",
   "name": "python3"
  },
  "language_info": {
   "codemirror_mode": {
    "name": "ipython",
    "version": 3
   },
   "file_extension": ".py",
   "mimetype": "text/x-python",
   "name": "python",
   "nbconvert_exporter": "python",
   "pygments_lexer": "ipython3",
   "version": "3.12.0"
  }
 },
 "nbformat": 4,
 "nbformat_minor": 2
}
