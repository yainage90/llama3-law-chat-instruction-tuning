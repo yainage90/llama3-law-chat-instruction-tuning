{
 "cells": [
  {
   "cell_type": "code",
   "execution_count": 1,
   "id": "33fd37f6-c283-4183-8f59-9e3e1d19ab65",
   "metadata": {},
   "outputs": [
    {
     "name": "stderr",
     "output_type": "stream",
     "text": [
      "/usr/local/lib/python3.11/dist-packages/transformers/utils/hub.py:127: FutureWarning: Using `TRANSFORMERS_CACHE` is deprecated and will be removed in v5 of Transformers. Use `HF_HOME` instead.\n",
      "  warnings.warn(\n"
     ]
    }
   ],
   "source": [
    "import os\n",
    "os.environ['HF_DATASETS_CACHE'] = '/workspace/.cache/huggingface'\n",
    "os.environ['TRANSFORMERS_CACHE'] = '/workspace/.cache/huggingface'\n",
    "\n",
    "from transformers import (\n",
    "    AutoModelForCausalLM,\n",
    "    AutoTokenizer,\n",
    "    BitsAndBytesConfig,\n",
    ")\n",
    "from peft import PeftModel, PeftConfig\n",
    "import huggingface_hub"
   ]
  },
  {
   "cell_type": "code",
   "execution_count": 2,
   "id": "dbc0b257-0223-4bad-8cbf-da5f77346c15",
   "metadata": {},
   "outputs": [
    {
     "name": "stdout",
     "output_type": "stream",
     "text": [
      "The token has not been saved to the git credentials helper. Pass `add_to_git_credential=True` in this function directly or `--add-to-git-credential` if using via `huggingface-cli` if you want to set the git credential as well.\n",
      "Token is valid (permission: write).\n",
      "Your token has been saved to /root/.cache/huggingface/token\n",
      "Login successful\n"
     ]
    }
   ],
   "source": [
    "huggingface_hub.login('<Your Access Token>')"
   ]
  },
  {
   "cell_type": "code",
   "execution_count": null,
   "id": "fc34fe87-0a36-46b8-961e-e7e1d767885a",
   "metadata": {},
   "outputs": [
    {
     "data": {
      "application/vnd.jupyter.widget-view+json": {
       "model_id": "0b7b62ea6e79447d8d5b9b222d1f150a",
       "version_major": 2,
       "version_minor": 0
      },
      "text/plain": [
       "Downloading shards:   0%|          | 0/4 [00:00<?, ?it/s]"
      ]
     },
     "metadata": {},
     "output_type": "display_data"
    },
    {
     "data": {
      "application/vnd.jupyter.widget-view+json": {
       "model_id": "5d6799d17f4549a0b6382af841e5a365",
       "version_major": 2,
       "version_minor": 0
      },
      "text/plain": [
       "Loading checkpoint shards:   0%|          | 0/4 [00:00<?, ?it/s]"
      ]
     },
     "metadata": {},
     "output_type": "display_data"
    }
   ],
   "source": [
    "# base_model = \"beomi/Llama-3-Open-Ko-8B\"\n",
    "base_model = \"beomi/Llama-3-Open-Ko-8B-Instruct-preview\"\n",
    "\n",
    "# 토크나이저 로드\n",
    "tokenizer = AutoTokenizer.from_pretrained(base_model, trust_remote_code=True)\n",
    "tokenizer.pad_token = tokenizer.eos_token\n",
    "tokenizer.padding_side = \"right\"\n",
    "\n",
    "peft_model_id = './model_ckpt/checkpoint-123930'\n",
    "config = PeftConfig.from_pretrained(peft_model_id)\n",
    "model = AutoModelForCausalLM.from_pretrained(config.base_model_name_or_path)\n",
    "model = PeftModel.from_pretrained(model, peft_model_id)\n",
    "\n",
    "merged_model = model.merge_and_unload()\n",
    "\n",
    "config = model.config\n",
    "# _name_or_path 변경\n",
    "config._name_or_path = 'yainage90/Llama3-open-Ko-3-8B-Law-Chat-Full-Weights'\n",
    "tokenizer.save_pretrained('./Llama3-open-Ko-3-8B-Law-Chat-Full-Weights')\n",
    "merged_model.save_pretrained('./Llama3-open-Ko-3-8B-Law-Chat-Full-Weights')"
   ]
  },
  {
   "cell_type": "code",
   "execution_count": null,
   "id": "21cb1f47-9a4b-417c-827c-054041b11501",
   "metadata": {},
   "outputs": [],
   "source": [
    "api = huggingface_hub.HfApi()\n",
    "\n",
    "api.upload_folder(\n",
    "    folder_path='./Llama3-open-Ko-3-8B-Law-Chat-Full-Weights',\n",
    "    repo_id='yainage90/Llama3-open-Ko-3-8B-Law-Chat-Full-Weights',\n",
    "    repo_type=\"model\",\n",
    ")"
   ]
  },
  {
   "cell_type": "code",
   "execution_count": null,
   "id": "e9a29264-53f2-4f2d-b8ce-85793f7224f3",
   "metadata": {},
   "outputs": [],
   "source": []
  }
 ],
 "metadata": {
  "kernelspec": {
   "display_name": "Python 3 (ipykernel)",
   "language": "python",
   "name": "python3"
  },
  "language_info": {
   "codemirror_mode": {
    "name": "ipython",
    "version": 3
   },
   "file_extension": ".py",
   "mimetype": "text/x-python",
   "name": "python",
   "nbconvert_exporter": "python",
   "pygments_lexer": "ipython3",
   "version": "3.11.9"
  }
 },
 "nbformat": 4,
 "nbformat_minor": 5
}
