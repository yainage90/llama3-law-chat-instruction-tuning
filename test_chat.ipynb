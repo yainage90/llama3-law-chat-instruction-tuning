{
 "cells": [
  {
   "cell_type": "code",
   "execution_count": null,
   "id": "6d0238ea-9c12-4cb5-a7c1-736a40bdedbb",
   "metadata": {},
   "outputs": [],
   "source": [
    "import os\n",
    "os.environ['HF_DATASETS_CACHE'] = '/workspace/.cache/huggingface'\n",
    "os.environ['TRANSFORMERS_CACHE'] = '/workspace/.cache/huggingface'"
   ]
  },
  {
   "cell_type": "code",
   "execution_count": null,
   "id": "0405c86b-d961-4ae3-a8b5-4682460a22c8",
   "metadata": {},
   "outputs": [],
   "source": [
    "import torch\n",
    "import huggingface_hub\n",
    "from transformers import AutoTokenizer, AutoModelForCausalLM"
   ]
  },
  {
   "cell_type": "code",
   "execution_count": null,
   "id": "ab2c0449-ed1e-460a-8e54-87b32d3ae15f",
   "metadata": {},
   "outputs": [],
   "source": [
    "huggingface_hub.login('<Your Access Token>')"
   ]
  },
  {
   "cell_type": "code",
   "execution_count": null,
   "id": "cfe4d40a-b684-4924-80b6-b7a27ad65b60",
   "metadata": {},
   "outputs": [],
   "source": [
    "model_id = './Llama3-open-Ko-3-8B-Law-Chat-Full-Weights'\n",
    "\n",
    "tokenizer = AutoTokenizer.from_pretrained(model_id)\n",
    "model = AutoModelForCausalLM.from_pretrained(\n",
    "    model_id,\n",
    "    torch_dtype=\"auto\",\n",
    "    device_map=\"auto\",\n",
    ")\n",
    "\n",
    "model.eval()"
   ]
  },
  {
   "cell_type": "code",
   "execution_count": null,
   "id": "7ffc0acc-55fd-4dac-a096-f20f0c723eb7",
   "metadata": {},
   "outputs": [],
   "source": [
    "question = '''\n",
    "술을 마시다가 옆테이블에서 먼저 시비를 걸었고 심하게 싸우진 않았습니다\n",
    "서로 언성이 높아지다가 제가 술김에 화가 나서 화를 참지 못하고 상대의 어깨쪽 팔부분을 꽉 잡았습니다 \n",
    "당연히 뭐 다치거나 상해입은 부분은 없는데 제가 본인 몸에 손을 댔다는 이유로 폭행죄로 신고를 했고 경찰 조사를 받았습니다 \n",
    "상대가 합의 의사가 없을 경우 벌금은 어느정도 나올까요??\n",
    "'''\n",
    "\n",
    "messages = [\n",
    "    {\"role\": \"system\", \"content\": \"친절한 챗봇으로서 상대방의 요청에 최대한 자세하고 친절하게 답하자. 모든 대답은 한국어(Korean)으로 대답해줘.\"},\n",
    "    {\"role\": \"user\", \"content\": question},\n",
    "]\n",
    "\n",
    "input_ids = tokenizer.apply_chat_template(\n",
    "    messages,\n",
    "    add_generation_prompt=True,\n",
    "    return_tensors=\"pt\"\n",
    ").to(model.device)\n",
    "\n",
    "terminators = [\n",
    "    tokenizer.eos_token_id,\n",
    "    tokenizer.convert_tokens_to_ids(\"<|eot_id|>\")\n",
    "]\n",
    "\n",
    "with torch.no_grad():\n",
    "    outputs = model.generate(\n",
    "        input_ids,\n",
    "        max_new_tokens=1024,\n",
    "        eos_token_id=terminators,\n",
    "        do_sample=True,\n",
    "        temperature=0.9,\n",
    "        top_p=0.9,\n",
    "    )\n",
    "\n",
    "response = outputs[0][input_ids.shape[-1]:]\n",
    "print(tokenizer.decode(response, skip_special_tokens=True))"
   ]
  },
  {
   "cell_type": "code",
   "execution_count": null,
   "id": "b2b007ee-6a56-4b21-9c16-60e251bee7c4",
   "metadata": {},
   "outputs": [],
   "source": []
  }
 ],
 "metadata": {
  "kernelspec": {
   "display_name": "Python 3 (ipykernel)",
   "language": "python",
   "name": "python3"
  },
  "language_info": {
   "codemirror_mode": {
    "name": "ipython",
    "version": 3
   },
   "file_extension": ".py",
   "mimetype": "text/x-python",
   "name": "python",
   "nbconvert_exporter": "python",
   "pygments_lexer": "ipython3",
   "version": "3.11.9"
  }
 },
 "nbformat": 4,
 "nbformat_minor": 5
}
