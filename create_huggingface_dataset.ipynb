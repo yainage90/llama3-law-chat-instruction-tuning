{
 "cells": [
  {
   "cell_type": "code",
   "execution_count": null,
   "metadata": {},
   "outputs": [],
   "source": [
    "from datasets import Dataset\n",
    "import os\n",
    "import json\n",
    "from tqdm import tqdm"
   ]
  },
  {
   "cell_type": "code",
   "execution_count": null,
   "metadata": {},
   "outputs": [],
   "source": [
    "raw_data_dir = './data'\n",
    "\n",
    "trivial_words = {\n",
    "    '작성됨',\n",
    "    '법무실장',\n",
    "    '전문변호사',\n",
    "    '대한변호사협회',\n",
    "    '대형로펌',\n",
    "    '조력해드',\n",
    "    '대표변호사',\n",
    "    '파트너변호사',\n",
    "    '검사출신',\n",
    "    '가사전문',\n",
    "    '형사전문',\n",
    "    '이혼전문',\n",
    "    '국방부',\n",
    "    '군법무관',\n",
    "    '지방검찰청',\n",
    "    '의정부지검',\n",
    "    '대전지검',\n",
    "    '지검검사',\n",
    "    '검찰부장',\n",
    "    '부장검사',\n",
    "    '바로상담',\n",
    "    '전담TF팀',\n",
    "    '전담팀',\n",
    "    '성공사례',\n",
    "    '해결사례',\n",
    "    '진행한경험',\n",
    "    '성공한경험',\n",
    "    '해결한경험',\n",
    "    '대표번호',\n",
    "    '도와드리고',\n",
    "    '변호사입니다',\n",
    "    '찾아드리겠습니다',\n",
    "    '도움드리겠습니다',\n",
    "    '설명드리겠습니다',\n",
    "    '돕겠습니다',\n",
    "    '책임집니다',\n",
    "    '풍부한경험',\n",
    "    '대변합니다',\n",
    "    '재산분할전문',\n",
    "    '연락주세요',\n",
    "    '안녕하세요',\n",
    "    '유선상담',\n",
    "    '전화상담',\n",
    "    '비밀보장',\n",
    "    '검토요청',\n",
    "    '검토신청',\n",
    "    '모든절차',\n",
    "    '최고의서비스',\n",
    "    '함께하겠습니다',\n",
    "    '드리겠습니다',\n",
    "    '사명감',\n",
    "    '의뢰인의',\n",
    "    '검증된',\n",
    "    '보다구체적인',\n",
    "    '연락부탁드립니다',\n",
    "    '연락주시길',\n",
    "    '연락주시기',\n",
    "    '연락주십시오',\n",
    "    '바있습니다',\n",
    "    '법률사무소',\n",
    "    '군인권자문변호사',\n",
    "    '군인권변호사',\n",
    "    '변호사약력',\n",
    "    '방송출연',\n",
    "    '방송다회출연',\n",
    "    '처리합니다',\n",
    "    '주시기바랍니다',\n",
    "    '연락주시면',\n",
    "    '년차변호사',\n",
    "    '감사합니다',\n",
    "    '신뢰할수있는',\n",
    "    '법무팀',\n",
    "    '출신변호사',\n",
    "    'https',\n",
    "    'www',\n",
    "    '서울대학교',\n",
    "    '고려대학교',\n",
    "    '로스쿨',\n",
    "    '법학과',\n",
    "    '우수사례선정',\n",
    "    '변호사드림',\n",
    "    '배상전문',\n",
    "    '사건다수',\n",
    "    '다수의승소사례',\n",
    "    '후기를확인',\n",
    "    '수행경험',\n",
    "    '법무법인',\n",
    "    '채택부탁',\n",
    "    '유선으로상담',\n",
    "    '유선상담',\n",
    "    '사법시험',\n",
    "    '사법연수원',\n",
    "    '강력한전문성',\n",
    "    '전문성보유',\n",
    "    '서울남부',\n",
    "    '서울동부',\n",
    "    '서울서부',\n",
    "    '서울북부',\n",
    "    '서울가정법원',\n",
    "    '채널운영',\n",
    "    '유튜브운영',\n",
    "    '거품없는비용',\n",
    "    '사무장',\n",
    "    '겸임교수',\n",
    "    '변호사가직접',\n",
    "}\n",
    "\n",
    "def remove_trivials(answer):\n",
    "    clean_sents = []\n",
    "    for sent in answer.split('\\n'):\n",
    "        sent = sent.strip()\n",
    "        if not sent:\n",
    "            continue\n",
    "\n",
    "        is_trivial = False\n",
    "        for word in trivial_words:\n",
    "            if word in sent.replace(' ', ''):\n",
    "                is_trivial = True\n",
    "            \n",
    "        if not is_trivial:\n",
    "            clean_sents.append(sent)\n",
    "\n",
    "    return '\\n'.join(clean_sents)"
   ]
  },
  {
   "cell_type": "code",
   "execution_count": 5,
   "metadata": {},
   "outputs": [
    {
     "name": "stderr",
     "output_type": "stream",
     "text": [
      "100%|██████████| 35799/35799 [00:15<00:00, 2340.85it/s]\n"
     ]
    },
    {
     "data": {
      "application/vnd.jupyter.widget-view+json": {
       "model_id": "0cbc0f374a32470991ead803612b58bd",
       "version_major": 2,
       "version_minor": 0
      },
      "text/plain": [
       "Uploading the dataset shards:   0%|          | 0/1 [00:00<?, ?it/s]"
      ]
     },
     "metadata": {},
     "output_type": "display_data"
    },
    {
     "data": {
      "application/vnd.jupyter.widget-view+json": {
       "model_id": "825702a50ee84e1084d56399b4acca1d",
       "version_major": 2,
       "version_minor": 0
      },
      "text/plain": [
       "Creating parquet from Arrow format:   0%|          | 0/53 [00:00<?, ?ba/s]"
      ]
     },
     "metadata": {},
     "output_type": "display_data"
    },
    {
     "data": {
      "text/plain": [
       "CommitInfo(commit_url='https://huggingface.co/datasets/yainage90/lawtalk-qna/commit/2e3a2dd9eeec34413f29d4e5ed5bf7e94d076013', commit_message='Upload dataset', commit_description='', oid='2e3a2dd9eeec34413f29d4e5ed5bf7e94d076013', pr_url=None, pr_revision=None, pr_num=None)"
      ]
     },
     "execution_count": 5,
     "metadata": {},
     "output_type": "execute_result"
    }
   ],
   "source": [
    "def create_qna_dataset():\n",
    "    fnames = [f for f in os.listdir(raw_data_dir) if not f.startswith('.')]\n",
    "    question_titles = []\n",
    "    categories = []\n",
    "    question_bodies = []\n",
    "    answers = []\n",
    "    for fname in tqdm(fnames):\n",
    "        with open(f'{raw_data_dir}/{fname}', 'r') as f:\n",
    "            obj = json.load(f)\n",
    "        question_title = obj['question_title']\n",
    "        category = obj['categories']\n",
    "        question_body = obj['question_body']\n",
    "        q_answers = obj['answers']\n",
    "        q_answers = [remove_trivials(answer) for answer in q_answers]\n",
    "\n",
    "        for answer in q_answers:\n",
    "            if len(answer) > 100:\n",
    "                question_titles.append(question_title)\n",
    "                categories.append(category)\n",
    "                question_bodies.append(question_body)\n",
    "                answers.append(answer)\n",
    "\n",
    "    dataset = Dataset.from_dict({\n",
    "        'category': categories,\n",
    "        'question_title': question_titles,\n",
    "        'question_body': question_bodies,\n",
    "        'answer': answers,\n",
    "    })\n",
    "    return dataset\n",
    "\n",
    "qna_dataet = create_qna_dataset()\n",
    "qna_dataet.push_to_hub('lawtalk-qna', private=True)"
   ]
  },
  {
   "cell_type": "code",
   "execution_count": null,
   "metadata": {},
   "outputs": [],
   "source": [
    "def create_instruction_dataset():\n",
    "    fnames = [f for f in os.listdir(raw_data_dir) if not f.startswith('.')]\n",
    "    sentences = []\n",
    "    for fname in tqdm(fnames):\n",
    "        with open(f'{raw_data_dir}/{fname}', 'r') as f:\n",
    "            obj = json.load(f)\n",
    "        question = obj['question_body']\n",
    "        answers = obj['answers']\n",
    "        answers = [remove_trivials(answer) for answer in answers]\n",
    "\n",
    "        for answer in answers:\n",
    "            if len(answer) > 100:\n",
    "                sentences.append(f'<s>[INST] {question} [/INST] {answer} </s>')\n",
    "\n",
    "    dataset = Dataset.from_dict({'text': sentences}).train_test_split(test_size=0.05, seed=2024)\n",
    "    return dataset\n",
    "\n",
    "instruction_dataset = create_instruction_dataset()\n",
    "instruction_dataset.push_to_hub('lawtalk-qna-instruction', private=True)"
   ]
  }
 ],
 "metadata": {
  "kernelspec": {
   "display_name": "law-nlp",
   "language": "python",
   "name": "python3"
  },
  "language_info": {
   "codemirror_mode": {
    "name": "ipython",
    "version": 3
   },
   "file_extension": ".py",
   "mimetype": "text/x-python",
   "name": "python",
   "nbconvert_exporter": "python",
   "pygments_lexer": "ipython3",
   "version": "3.12.0"
  }
 },
 "nbformat": 4,
 "nbformat_minor": 2
}
